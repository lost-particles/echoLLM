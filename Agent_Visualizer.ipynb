{
 "cells": [
  {
   "cell_type": "code",
   "execution_count": null,
   "metadata": {},
   "outputs": [],
   "source": [
    "!pip install \"gymnasium[toy-text]\"\n"
   ]
  },
  {
   "cell_type": "code",
   "execution_count": null,
   "metadata": {},
   "outputs": [],
   "source": [
    "import gymnasium as gym\n",
    "import numpy as np\n",
    "import matplotlib.pyplot as plt\n",
    "import pandas as pd\n",
    "from IPython.display import clear_output\n",
    "from time import sleep\n",
    "import torch\n",
    "import os\n",
    "from datetime import datetime\n",
    "import pickle\n",
    "import io\n",
    "\n",
    "env = gym.make(\"FrozenLake-v1\", render_mode=\"rgb_array\")\n",
    "q_table = None\n",
    "# device = torch.device(\"cuda\" if torch.cuda.is_available() else \"cpu\")\n",
    "device = torch.device(\"cpu\")"
   ]
  },
  {
   "cell_type": "code",
   "execution_count": null,
   "metadata": {},
   "outputs": [],
   "source": [
    "def visualize_agent(env, q_table, episodes=5, sleep_time=0.5, end_sleep_time=2):\n",
    "    for _ in range(episodes):\n",
    "        state, _ = env.reset()\n",
    "        done = False\n",
    "\n",
    "        while not done:\n",
    "            clear_output(wait=True)\n",
    "            plt.imshow(env.render())\n",
    "            plt.axis('off')\n",
    "            plt.show()\n",
    "            sleep(sleep_time)\n",
    "\n",
    "            action = np.argmax(q_table[state])\n",
    "            state, reward, done, truncated, info = env.step(action)\n",
    "\n",
    "        clear_output(wait=True)\n",
    "        plt.imshow(env.render())\n",
    "        plt.axis('off')\n",
    "        plt.show()\n",
    "        sleep(end_sleep_time)"
   ]
  },
  {
   "cell_type": "code",
   "execution_count": null,
   "metadata": {},
   "outputs": [],
   "source": [
    "class CPU_Unpickler(pickle.Unpickler):\n",
    "    def find_class(self, module, name):\n",
    "        if module == 'torch.storage' and name == '_load_from_bytes':\n",
    "            return lambda b: torch.load(io.BytesIO(b), map_location='cpu')\n",
    "        else: return super().find_class(module, name)"
   ]
  },
  {
   "cell_type": "code",
   "execution_count": null,
   "metadata": {
    "collapsed": false,
    "jupyter": {
     "outputs_hidden": false
    },
    "pycharm": {
     "name": "#%%\n"
    }
   },
   "outputs": [],
   "source": [
    "\n",
    "# Prepare model saving directories\n",
    "model_root = \"models\"\n",
    "if not os.path.exists(model_root):\n",
    "    os.makedirs(model_root, exist_ok=True)\n",
    "try:\n",
    "    timestamp = datetime.now().strftime(\"%Y-%m-%d_%H-%M-%S\")\n",
    "except Exception as e:\n",
    "    print(f\"Error generating timestamp: {e}\")\n",
    "    timestamp = \"default_timestamp\"\n",
    "# Load the most recent q_table, ep_num, epsilon, and rewards_per_episode if they exist\n",
    "latest_data = None\n",
    "timestamps = [d for d in os.listdir(model_root) if os.path.isdir(os.path.join(model_root, d))]\n",
    "if timestamps:\n",
    "    latest_timestamp = max(timestamps)\n",
    "    latest_run_dir = os.path.join(model_root, latest_timestamp)\n",
    "    dump_files = [f for f in os.listdir(latest_run_dir) if f.endswith(\".pkl\") or f.endswith(\".pt\")]\n",
    "    if dump_files:\n",
    "        latest_dump_file = max(dump_files, key=lambda x: int(x.split('_')[1]))\n",
    "        latest_dump_path = os.path.join(latest_run_dir, latest_dump_file)\n",
    "        if latest_dump_path.endswith(\".pkl\"):\n",
    "            with open(latest_dump_path, \"rb\") as f:\n",
    "                # latest_data = pickle.load(f)\n",
    "                latest_data = CPU_Unpickler(f).load()\n",
    "        elif latest_dump_path.endswith(\".pt\"):\n",
    "            with open(latest_dump_path, \"rb\") as f:\n",
    "                # latest_data = torch.load(latest_dump_path, map_location=device, weights_only=False)\n",
    "                latest_data = torch.load(latest_dump_path, map_location=torch.device('cpu'), weights_only=False)\n",
    "\n",
    "if latest_data is not None:\n",
    "    q_table = latest_data.get(\"q_table\", q_table)\n",
    "    ep_num = latest_data.get(\"ep_num\", 0)\n",
    "    epsilon = latest_data.get(\"epsilon\", None)\n",
    "    rewards_per_episode = latest_data.get(\"rewards_per_episode\", [])\n",
    "    conversation_history_ids = latest_data.get(\"conversation_history_ids\", None)\n",
    "    print(f\"Loaded data from {latest_dump_path}\")\n",
    "else:\n",
    "    print(\"No previous data found. Starting fresh.\")"
   ]
  },
  {
   "cell_type": "code",
   "execution_count": null,
   "outputs": [],
   "source": [
    "def print_q_table(q_table, env):\n",
    "    \"\"\"Prints the Q-table in a readable format using pandas DataFrame.\"\"\"\n",
    "    actions = ['Left', 'Down', 'Right', 'Up']\n",
    "    df = pd.DataFrame(q_table, columns=actions)\n",
    "    df.index.name = 'State'\n",
    "\n",
    "    print(\"\\n===== Q-Table =====\")\n",
    "    print(df.round(2))  # Round to 2 decimal places for readability\n",
    "    print(\"===================\\n\")\n",
    "\n",
    "print_q_table(q_table, env)"
   ],
   "metadata": {
    "collapsed": false,
    "pycharm": {
     "name": "#%%\n"
    }
   }
  },
  {
   "cell_type": "code",
   "execution_count": null,
   "outputs": [],
   "source": [
    "plt.figure(figsize=(20, 10))\n",
    "plt.plot(rewards_per_episode)\n",
    "plt.title('Rewards per Episode')\n",
    "plt.xlabel('Episode')\n",
    "plt.ylabel('Reward')\n",
    "plt.show()"
   ],
   "metadata": {
    "collapsed": false,
    "pycharm": {
     "name": "#%%\n"
    }
   }
  },
  {
   "cell_type": "code",
   "execution_count": null,
   "outputs": [],
   "source": [
    "env.reset()\n",
    "# Visualize the agent's performance\n",
    "visualize_agent(env, q_table, episodes=5, sleep_time=0, end_sleep_time=3)\n",
    "\n",
    "#Clean up the environment\n",
    "env.close()"
   ],
   "metadata": {
    "collapsed": false,
    "pycharm": {
     "name": "#%%\n"
    }
   }
  },
  {
   "cell_type": "code",
   "execution_count": null,
   "outputs": [],
   "source": [],
   "metadata": {
    "collapsed": false,
    "pycharm": {
     "name": "#%%\n"
    }
   }
  },
  {
   "cell_type": "code",
   "execution_count": null,
   "outputs": [],
   "source": [],
   "metadata": {
    "collapsed": false,
    "pycharm": {
     "name": "#%%\n"
    }
   }
  },
  {
   "cell_type": "code",
   "execution_count": null,
   "metadata": {
    "collapsed": false,
    "jupyter": {
     "outputs_hidden": false
    },
    "pycharm": {
     "name": "#%%\n"
    }
   },
   "outputs": [],
   "source": [
    "def print_q_table(q_table, env):\n",
    "    \"\"\"Prints the Q-table in a readable format using pandas DataFrame.\"\"\"\n",
    "    actions = ['Left', 'Down', 'Right', 'Up']\n",
    "    df = pd.DataFrame(q_table, columns=actions)\n",
    "    df.index.name = 'State'\n",
    "\n",
    "    print(\"\\n===== Q-Table =====\")\n",
    "    print(df.round(2))  # Round to 2 decimal places for readability\n",
    "    print(\"===================\\n\")\n",
    "\n",
    "print_q_table(q_table, env)"
   ]
  },
  {
   "cell_type": "code",
   "execution_count": null,
   "metadata": {
    "collapsed": false,
    "jupyter": {
     "outputs_hidden": false
    },
    "pycharm": {
     "name": "#%%\n"
    }
   },
   "outputs": [],
   "source": [
    "plt.figure(figsize=(20, 10))\n",
    "plt.plot(rewards_per_episode)\n",
    "plt.title('Rewards per Episode')\n",
    "plt.xlabel('Episode')\n",
    "plt.ylabel('Reward')\n",
    "plt.show()"
   ]
  },
  {
   "cell_type": "code",
   "execution_count": null,
   "metadata": {
    "collapsed": false,
    "jupyter": {
     "outputs_hidden": false
    },
    "pycharm": {
     "name": "#%%\n"
    }
   },
   "outputs": [],
   "source": [
    "env.reset()\n",
    "# Visualize the agent's performance\n",
    "visualize_agent(env, q_table, episodes=5, sleep_time=0, end_sleep_time=3)\n",
    "\n",
    "#Clean up the environment\n",
    "env.close()"
   ]
  },
  {
   "cell_type": "code",
   "execution_count": null,
   "metadata": {
    "collapsed": false,
    "jupyter": {
     "outputs_hidden": false
    },
    "pycharm": {
     "name": "#%%\n"
    }
   },
   "outputs": [],
   "source": []
  },
  {
   "cell_type": "code",
   "execution_count": null,
   "metadata": {
    "collapsed": false,
    "jupyter": {
     "outputs_hidden": false
    },
    "pycharm": {
     "name": "#%%\n"
    }
   },
   "outputs": [],
   "source": []
  },
  {
   "cell_type": "code",
   "execution_count": null,
   "metadata": {},
   "outputs": [],
   "source": [
    "def print_q_table(q_table, env):\n",
    "    \"\"\"Prints the Q-table in a readable format using pandas DataFrame.\"\"\"\n",
    "    actions = ['Left', 'Down', 'Right', 'Up']\n",
    "    df = pd.DataFrame(q_table, columns=actions)\n",
    "    df.index.name = 'State'\n",
    "\n",
    "    print(\"\\n===== Q-Table =====\")\n",
    "    print(df.round(2))  # Round to 2 decimal places for readability\n",
    "    print(\"===================\\n\")\n",
    "\n",
    "print_q_table(q_table, env)"
   ]
  },
  {
   "cell_type": "code",
   "execution_count": null,
   "metadata": {},
   "outputs": [],
   "source": [
    "plt.figure(figsize=(20, 10))\n",
    "plt.plot(rewards_per_episode)\n",
    "plt.title('Rewards per Episode')\n",
    "plt.xlabel('Episode')\n",
    "plt.ylabel('Reward')\n",
    "plt.show()"
   ]
  },
  {
   "cell_type": "code",
   "execution_count": null,
   "metadata": {
    "collapsed": false,
    "jupyter": {
     "outputs_hidden": false
    },
    "pycharm": {
     "name": "#%%\n"
    }
   },
   "outputs": [],
   "source": [
    "env.reset()\n",
    "# Visualize the agent's performance\n",
    "visualize_agent(env, q_table, episodes=1, sleep_time=0, end_sleep_time=3)\n",
    "\n",
    "#Clean up the environment\n",
    "env.close()"
   ]
  },
  {
   "cell_type": "code",
   "execution_count": null,
   "metadata": {},
   "outputs": [],
   "source": []
  }
 ],
 "metadata": {
  "kernelspec": {
   "display_name": "Python 3 (ipykernel)",
   "language": "python",
   "name": "python3"
  },
  "language_info": {
   "codemirror_mode": {
    "name": "ipython",
    "version": 3
   },
   "file_extension": ".py",
   "mimetype": "text/x-python",
   "name": "python",
   "nbconvert_exporter": "python",
   "pygments_lexer": "ipython3",
   "version": "3.9.6"
  }
 },
 "nbformat": 4,
 "nbformat_minor": 4
}